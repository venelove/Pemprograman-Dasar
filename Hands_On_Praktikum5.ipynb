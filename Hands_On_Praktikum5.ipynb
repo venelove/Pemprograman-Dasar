{
  "nbformat": 4,
  "nbformat_minor": 0,
  "metadata": {
    "colab": {
      "provenance": [],
      "authorship_tag": "ABX9TyMRD6itJdIqUwuJJ74Nl8aJ",
      "include_colab_link": true
    },
    "kernelspec": {
      "name": "python3",
      "display_name": "Python 3"
    },
    "language_info": {
      "name": "python"
    }
  },
  "cells": [
    {
      "cell_type": "markdown",
      "metadata": {
        "id": "view-in-github",
        "colab_type": "text"
      },
      "source": [
        "<a href=\"https://colab.research.google.com/github/venelove/Pemprograman-Dasar/blob/main/Hands_On_Praktikum5.ipynb\" target=\"_parent\"><img src=\"https://colab.research.google.com/assets/colab-badge.svg\" alt=\"Open In Colab\"/></a>"
      ]
    },
    {
      "cell_type": "code",
      "execution_count": 14,
      "metadata": {
        "colab": {
          "base_uri": "https://localhost:8080/"
        },
        "id": "10VTo5FVdmVi",
        "outputId": "1094c6f3-3693-48a6-b027-cf3317fe6f3e"
      },
      "outputs": [
        {
          "output_type": "stream",
          "name": "stdout",
          "text": [
            "--- Soal 1 ---\n",
            "2\n",
            "4\n",
            "6\n",
            "8\n",
            "10\n",
            "12\n",
            "14\n",
            "16\n",
            "18\n",
            "20\n",
            "22\n",
            "24\n",
            "26\n",
            "28\n",
            "30\n",
            "32\n",
            "34\n",
            "36\n",
            "38\n",
            "40\n",
            "42\n",
            "44\n",
            "46\n",
            "48\n",
            "50\n"
          ]
        }
      ],
      "source": [
        "#modif agar bisa menampilkan angka genap antara 1-50\n",
        "\n",
        "print(\"--- Soal 1 ---\")\n",
        "# Mencetak bilangan genap 1 hingga 50\n",
        "for angka in range(2, 51 , 2):\n",
        "    print(angka)"
      ]
    },
    {
      "cell_type": "code",
      "source": [
        "# modifikasi agar bisa memberhentikan proses dengan memasukan NIM\n",
        "print(\"--- Soal 2 (Modifikasi) ---\")\n",
        "kode_berhenti = 4232401035  # NIM kamu\n",
        "input_pengguna = 0  # Inisialisasi awal\n",
        "\n",
        "while input_pengguna != kode_berhenti:\n",
        "    try:\n",
        "        input_pengguna = int(input(\"Masukkan angka (4232401035 untuk berhenti): \"))\n",
        "    except ValueError:\n",
        "        print(\"Input tidak valid. Harap masukkan angka.\")\n",
        "\n",
        "print(\"Perulangan telah dihentikan oleh sentinel (NIM 4232401035).\")"
      ],
      "metadata": {
        "colab": {
          "base_uri": "https://localhost:8080/"
        },
        "id": "qMJYeIzLeOap",
        "outputId": "b6fdb6ca-cd4f-4200-8468-affe65b1bc5c"
      },
      "execution_count": 16,
      "outputs": [
        {
          "output_type": "stream",
          "name": "stdout",
          "text": [
            "--- Soal 2 (Modifikasi) ---\n",
            "Masukkan angka (4232401035 untuk berhenti): 4232401033\n",
            "Masukkan angka (4232401035 untuk berhenti): 4232401035\n",
            "Perulangan telah dihentikan oleh sentinel (NIM 4232401035).\n"
          ]
        }
      ]
    },
    {
      "cell_type": "code",
      "source": [
        "#Modifikasilah agar harga belanjaan minimal 10 item pada harga_barang\n",
        "\n",
        "print(\"--- Soal 3 (Modifikasi) ---\")\n",
        "# Daftar harga minimal 10 item\n",
        "harga_barang = [15000, 25000, 10000, 45000, 34000, 19000, 33000, 24000, 18000, 27000]\n",
        "total_belanja = 0\n",
        "\n",
        "# Menjumlahkan seluruh harga barang\n",
        "for harga in harga_barang:\n",
        "    total_belanja += harga\n",
        "\n",
        "print(\"Total biaya belanja adalah:\", total_belanja)"
      ],
      "metadata": {
        "colab": {
          "base_uri": "https://localhost:8080/"
        },
        "id": "fM2UNXD9erPf",
        "outputId": "ea587d57-2532-4f6b-baf9-3d823948bdce"
      },
      "execution_count": 22,
      "outputs": [
        {
          "output_type": "stream",
          "name": "stdout",
          "text": [
            "--- Soal 3 (Modifikasi) ---\n",
            "Total biaya belanja adalah: 250000\n"
          ]
        }
      ]
    },
    {
      "cell_type": "code",
      "source": [
        "#Batasan Percobaan (Limitasi Iterasi)\n",
        "print(\"--- Soal 4 (Versi dengan Password) ---\")\n",
        "password_benar = \"pengengeprek\"\n",
        "percobaan_maksimal = 3\n",
        "percobaan_saat_ini = 1\n",
        "\n",
        "while percobaan_saat_ini <= percobaan_maksimal:\n",
        "    password = input(f\"Percobaan ke-{percobaan_saat_ini}. Masukkan password: \")\n",
        "    if password == password_benar:\n",
        "        print(\"Akses diterima.\")\n",
        "        break\n",
        "    percobaan_saat_ini += 1\n",
        "\n",
        "if percobaan_saat_ini > percobaan_maksimal:\n",
        "    print(\"Kesempatan habis.\")"
      ],
      "metadata": {
        "colab": {
          "base_uri": "https://localhost:8080/"
        },
        "id": "p-31puUie9AZ",
        "outputId": "50435344-ac25-4b43-a6ee-5e6d6c3e1e2d"
      },
      "execution_count": 24,
      "outputs": [
        {
          "output_type": "stream",
          "name": "stdout",
          "text": [
            "--- Soal 4 (Versi dengan Password) ---\n",
            "Percobaan ke-1. Masukkan password: yaya\n",
            "Percobaan ke-2. Masukkan password: yuyu\n",
            "Percobaan ke-3. Masukkan password: pengengeprek\n",
            "Akses diterima.\n"
          ]
        }
      ]
    },
    {
      "cell_type": "code",
      "source": [
        "#Mencetak Karakter dari Teks\n",
        "print(\"--- Soal 5 (Modifikasi) ---\")\n",
        "nama_proyek = \"Politeknik Negeri Batam\"\n",
        "hasil_output = \"\"\n",
        "\n",
        "for karakter in nama_proyek:\n",
        "    hasil_output += karakter + \"-\"\n",
        "\n",
        "print(hasil_output)"
      ],
      "metadata": {
        "colab": {
          "base_uri": "https://localhost:8080/"
        },
        "id": "f1jdlhZgfYgR",
        "outputId": "8a0fad07-3aa5-483d-e8e1-8be66554ee08"
      },
      "execution_count": 6,
      "outputs": [
        {
          "output_type": "stream",
          "name": "stdout",
          "text": [
            "--- Soal 5 (Modifikasi) ---\n",
            "P-o-l-i-t-e-k-n-i-k- -N-e-g-e-r-i- -B-a-t-a-m-\n"
          ]
        }
      ]
    },
    {
      "cell_type": "code",
      "source": [
        "#Iterasi Mundur\n",
        "print(\"--- Soal 6 (Modifikasi) ---\")\n",
        "# Countdown dari 255 ke 1\n",
        "for i in range(255, 0, -1):\n",
        "    print(i)"
      ],
      "metadata": {
        "colab": {
          "base_uri": "https://localhost:8080/"
        },
        "id": "Z0QuoGm3f7r1",
        "outputId": "3f962a15-3586-4912-dece-9660ede5e059"
      },
      "execution_count": 8,
      "outputs": [
        {
          "output_type": "stream",
          "name": "stdout",
          "text": [
            "--- Soal 6 (Modifikasi) ---\n",
            "255\n",
            "254\n",
            "253\n",
            "252\n",
            "251\n",
            "250\n",
            "249\n",
            "248\n",
            "247\n",
            "246\n",
            "245\n",
            "244\n",
            "243\n",
            "242\n",
            "241\n",
            "240\n",
            "239\n",
            "238\n",
            "237\n",
            "236\n",
            "235\n",
            "234\n",
            "233\n",
            "232\n",
            "231\n",
            "230\n",
            "229\n",
            "228\n",
            "227\n",
            "226\n",
            "225\n",
            "224\n",
            "223\n",
            "222\n",
            "221\n",
            "220\n",
            "219\n",
            "218\n",
            "217\n",
            "216\n",
            "215\n",
            "214\n",
            "213\n",
            "212\n",
            "211\n",
            "210\n",
            "209\n",
            "208\n",
            "207\n",
            "206\n",
            "205\n",
            "204\n",
            "203\n",
            "202\n",
            "201\n",
            "200\n",
            "199\n",
            "198\n",
            "197\n",
            "196\n",
            "195\n",
            "194\n",
            "193\n",
            "192\n",
            "191\n",
            "190\n",
            "189\n",
            "188\n",
            "187\n",
            "186\n",
            "185\n",
            "184\n",
            "183\n",
            "182\n",
            "181\n",
            "180\n",
            "179\n",
            "178\n",
            "177\n",
            "176\n",
            "175\n",
            "174\n",
            "173\n",
            "172\n",
            "171\n",
            "170\n",
            "169\n",
            "168\n",
            "167\n",
            "166\n",
            "165\n",
            "164\n",
            "163\n",
            "162\n",
            "161\n",
            "160\n",
            "159\n",
            "158\n",
            "157\n",
            "156\n",
            "155\n",
            "154\n",
            "153\n",
            "152\n",
            "151\n",
            "150\n",
            "149\n",
            "148\n",
            "147\n",
            "146\n",
            "145\n",
            "144\n",
            "143\n",
            "142\n",
            "141\n",
            "140\n",
            "139\n",
            "138\n",
            "137\n",
            "136\n",
            "135\n",
            "134\n",
            "133\n",
            "132\n",
            "131\n",
            "130\n",
            "129\n",
            "128\n",
            "127\n",
            "126\n",
            "125\n",
            "124\n",
            "123\n",
            "122\n",
            "121\n",
            "120\n",
            "119\n",
            "118\n",
            "117\n",
            "116\n",
            "115\n",
            "114\n",
            "113\n",
            "112\n",
            "111\n",
            "110\n",
            "109\n",
            "108\n",
            "107\n",
            "106\n",
            "105\n",
            "104\n",
            "103\n",
            "102\n",
            "101\n",
            "100\n",
            "99\n",
            "98\n",
            "97\n",
            "96\n",
            "95\n",
            "94\n",
            "93\n",
            "92\n",
            "91\n",
            "90\n",
            "89\n",
            "88\n",
            "87\n",
            "86\n",
            "85\n",
            "84\n",
            "83\n",
            "82\n",
            "81\n",
            "80\n",
            "79\n",
            "78\n",
            "77\n",
            "76\n",
            "75\n",
            "74\n",
            "73\n",
            "72\n",
            "71\n",
            "70\n",
            "69\n",
            "68\n",
            "67\n",
            "66\n",
            "65\n",
            "64\n",
            "63\n",
            "62\n",
            "61\n",
            "60\n",
            "59\n",
            "58\n",
            "57\n",
            "56\n",
            "55\n",
            "54\n",
            "53\n",
            "52\n",
            "51\n",
            "50\n",
            "49\n",
            "48\n",
            "47\n",
            "46\n",
            "45\n",
            "44\n",
            "43\n",
            "42\n",
            "41\n",
            "40\n",
            "39\n",
            "38\n",
            "37\n",
            "36\n",
            "35\n",
            "34\n",
            "33\n",
            "32\n",
            "31\n",
            "30\n",
            "29\n",
            "28\n",
            "27\n",
            "26\n",
            "25\n",
            "24\n",
            "23\n",
            "22\n",
            "21\n",
            "20\n",
            "19\n",
            "18\n",
            "17\n",
            "16\n",
            "15\n",
            "14\n",
            "13\n",
            "12\n",
            "11\n",
            "10\n",
            "9\n",
            "8\n",
            "7\n",
            "6\n",
            "5\n",
            "4\n",
            "3\n",
            "2\n",
            "1\n"
          ]
        }
      ]
    },
    {
      "cell_type": "code",
      "source": [
        "#Mengakses Elemen dan Indeks Secara Bersamaan\n",
        "print(\"--- Soal 7 (Modifikasi) ---\")\n",
        "kelurahan_bengkong = [\"Bengkong Indah\", \"Bengkong Laut\", \"Bengkong Harapan\", \"Sadai\", \"Tanjung Buntung\"]\n",
        "\n",
        "for i, nama in enumerate(kelurahan_bengkong):\n",
        "    print(f\"Kelurahan ke-{i + 1}: {nama}\")"
      ],
      "metadata": {
        "colab": {
          "base_uri": "https://localhost:8080/"
        },
        "id": "Meccc7q0gF2U",
        "outputId": "a6d60e73-fbd8-4d93-b7b9-7da019dfdd94"
      },
      "execution_count": 19,
      "outputs": [
        {
          "output_type": "stream",
          "name": "stdout",
          "text": [
            "--- Soal 7 (Modifikasi) ---\n",
            "Kelurahan ke-1: Bengkong Indah\n",
            "Kelurahan ke-2: Bengkong Laut\n",
            "Kelurahan ke-3: Bengkong Harapan\n",
            "Kelurahan ke-4: Sadai\n",
            "Kelurahan ke-5: Tanjung Buntung\n"
          ]
        }
      ]
    },
    {
      "cell_type": "code",
      "source": [
        "#Kontrol Perulangan dengan break\n",
        "print(\"--- Soal 8 (Modifikasi) ---\")\n",
        "data_angka = [10, 20, 30, 0, 50, 60]\n",
        "\n",
        "for angka in data_angka:\n",
        "    if angka == 0:   # kondisi pemberhentian baru\n",
        "        break        # hentikan perulangan\n",
        "    print(angka)\n",
        "\n",
        "print(\"Program berhenti karena angka 0 ditemukan.\")"
      ],
      "metadata": {
        "colab": {
          "base_uri": "https://localhost:8080/"
        },
        "id": "zKqT31r5go0f",
        "outputId": "05a619fe-3190-4aed-d2a9-3e5f978b104a"
      },
      "execution_count": 10,
      "outputs": [
        {
          "output_type": "stream",
          "name": "stdout",
          "text": [
            "--- Soal 8 (Modifikasi) ---\n",
            "10\n",
            "20\n",
            "30\n",
            "Program berhenti karena angka 0 ditemukan.\n"
          ]
        }
      ]
    },
    {
      "cell_type": "code",
      "source": [
        "#Penambahan Berkelanjutan dengan Batas\n",
        "print(\"--- Soal 9 ---\")\n",
        "total = 0\n",
        "bilangan = 1\n",
        "batas = 20\n",
        "\n",
        "while total <= batas:\n",
        "    total += bilangan\n",
        "    bilangan += 1\n",
        "\n",
        "print(\"Total terakhir:\", total)"
      ],
      "metadata": {
        "colab": {
          "base_uri": "https://localhost:8080/"
        },
        "id": "8reSl-TVhHkv",
        "outputId": "10dcabdb-7e47-4a13-d238-3676f9116fab"
      },
      "execution_count": 12,
      "outputs": [
        {
          "output_type": "stream",
          "name": "stdout",
          "text": [
            "--- Soal 9 ---\n",
            "Total terakhir: 21\n"
          ]
        }
      ]
    },
    {
      "cell_type": "code",
      "source": [
        "#Perulangan Bersarang (Nested Loop) Sederhana\n",
        "print(\"--- Soal 10 ---\")\n",
        "jumlah_baris = 3\n",
        "\n",
        "for baris in range(jumlah_baris):\n",
        "    baris_teks = \"\"\n",
        "    for kolom in range(1):   # perulangan dalam, mencetak \"Python\" 1 kali per baris\n",
        "        baris_teks += \"Python \"\n",
        "    print(baris_teks)"
      ],
      "metadata": {
        "colab": {
          "base_uri": "https://localhost:8080/"
        },
        "id": "W1Ms-OwThTA3",
        "outputId": "a87fd6a7-1052-4da0-a464-dfe825d212ce"
      },
      "execution_count": 13,
      "outputs": [
        {
          "output_type": "stream",
          "name": "stdout",
          "text": [
            "--- Soal 10 ---\n",
            "Python \n",
            "Python \n",
            "Python \n"
          ]
        }
      ]
    }
  ]
}