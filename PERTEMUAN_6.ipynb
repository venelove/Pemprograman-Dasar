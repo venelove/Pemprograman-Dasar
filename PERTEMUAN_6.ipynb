{
  "nbformat": 4,
  "nbformat_minor": 0,
  "metadata": {
    "colab": {
      "provenance": [],
      "authorship_tag": "ABX9TyMJMjW0MjAmFltGshsvE0m4",
      "include_colab_link": true
    },
    "kernelspec": {
      "name": "python3",
      "display_name": "Python 3"
    },
    "language_info": {
      "name": "python"
    }
  },
  "cells": [
    {
      "cell_type": "markdown",
      "metadata": {
        "id": "view-in-github",
        "colab_type": "text"
      },
      "source": [
        "<a href=\"https://colab.research.google.com/github/venelove/Pemprograman-Dasar/blob/main/PERTEMUAN_6.ipynb\" target=\"_parent\"><img src=\"https://colab.research.google.com/assets/colab-badge.svg\" alt=\"Open In Colab\"/></a>"
      ]
    },
    {
      "cell_type": "code",
      "execution_count": null,
      "metadata": {
        "colab": {
          "base_uri": "https://localhost:8080/"
        },
        "id": "9Z3_ma-ADMEQ",
        "outputId": "2e1419ed-c4a6-4614-c534-7ae6ceaf6c70"
      },
      "outputs": [
        {
          "output_type": "stream",
          "name": "stdout",
          "text": [
            "Halo Dunia!\n"
          ]
        }
      ],
      "source": [
        "# tanpa parameter\n",
        "def halo():\n",
        "    print(\"Halo Dunia!\")\n",
        "\n",
        "halo()\n"
      ]
    },
    {
      "cell_type": "code",
      "source": [
        "# dengan parameter\n",
        "def halo(nama):\n",
        "    print(f\"Halo {nama}\")\n",
        "\n",
        "halo(\"Debora\")"
      ],
      "metadata": {
        "colab": {
          "base_uri": "https://localhost:8080/"
        },
        "id": "Wx8_mDTRDrcx",
        "outputId": "0dd67ba9-f8e9-4a50-90ee-11c7a16b1d91"
      },
      "execution_count": null,
      "outputs": [
        {
          "output_type": "stream",
          "name": "stdout",
          "text": [
            "Halo Debora\n"
          ]
        }
      ]
    },
    {
      "cell_type": "code",
      "source": [
        "def sapa(nama=\"Teman\"):\n",
        "    print(\"Halo\", nama)\n",
        "\n",
        "sapa()           # Output: Halo Teman\n",
        "sapa(\"Andi\")     # Output: Halo Andi\n"
      ],
      "metadata": {
        "colab": {
          "base_uri": "https://localhost:8080/"
        },
        "id": "QMvayJ7NENZN",
        "outputId": "46a4849a-163c-40a5-9956-7f063186d3fb"
      },
      "execution_count": null,
      "outputs": [
        {
          "output_type": "stream",
          "name": "stdout",
          "text": [
            "Halo Teman\n",
            "Halo Andi\n"
          ]
        }
      ]
    },
    {
      "cell_type": "code",
      "source": [
        "#a. *args → menampung banyak argumen posisi\n",
        "def total(*angka):\n",
        "    print(sum(angka))\n",
        "\n",
        "total(1, 2, 3, 4)\n",
        "\n",
        "#b. **kwargs → menampung banyak argumen kunci-nilai\n",
        "def profil(**data):\n",
        "    print(data)\n",
        "\n",
        "profil(nama=\"Debora\", umur=20)\n"
      ],
      "metadata": {
        "colab": {
          "base_uri": "https://localhost:8080/"
        },
        "id": "XXugjBeMJWFu",
        "outputId": "59fa0ffa-7d15-4a80-d759-5b6edf7bc686"
      },
      "execution_count": null,
      "outputs": [
        {
          "output_type": "stream",
          "name": "stdout",
          "text": [
            "10\n",
            "{'nama': 'Debora', 'umur': 20}\n"
          ]
        }
      ]
    },
    {
      "cell_type": "code",
      "source": [
        "# lamda funcition\n",
        "tambah = lambda a, b: a + b\n",
        "print(tambah(2, 3))\n"
      ],
      "metadata": {
        "colab": {
          "base_uri": "https://localhost:8080/"
        },
        "id": "lXIC8NfdJ-Ps",
        "outputId": "c9f69271-f05a-4e36-bf7c-923b127f2a80"
      },
      "execution_count": null,
      "outputs": [
        {
          "output_type": "stream",
          "name": "stdout",
          "text": [
            "5\n"
          ]
        }
      ]
    },
    {
      "cell_type": "code",
      "source": [
        "#fungsi rekursif\n",
        "def faktorial(n):\n",
        "    if n == 1:\n",
        "        return 1\n",
        "    else:\n",
        "        return n * faktorial(n - 1)\n",
        "\n",
        "print(faktorial(5))\n"
      ],
      "metadata": {
        "colab": {
          "base_uri": "https://localhost:8080/"
        },
        "id": "YqN7uXwyLA00",
        "outputId": "b48f81c8-088f-4ef2-e442-d17e6f4c45af"
      },
      "execution_count": null,
      "outputs": [
        {
          "output_type": "stream",
          "name": "stdout",
          "text": [
            "120\n"
          ]
        }
      ]
    },
    {
      "cell_type": "code",
      "source": [
        "#fungsi return\n",
        "def tambah(a, b):\n",
        "    return a + b\n",
        "\n",
        "hasil = tambah(5, 3)\n",
        "print(\"Hasil:\", hasil)\n"
      ],
      "metadata": {
        "colab": {
          "base_uri": "https://localhost:8080/"
        },
        "id": "xCTGs_9ZLoas",
        "outputId": "09fcbac4-1313-493f-aca6-ec8a738d413c"
      },
      "execution_count": null,
      "outputs": [
        {
          "output_type": "stream",
          "name": "stdout",
          "text": [
            "Hasil: 8\n"
          ]
        }
      ]
    },
    {
      "cell_type": "code",
      "source": [
        "# fungsi bawaan\n",
        "print(\"Halo\")     # menampilkan teks ke layar\n",
        "len(\"Python\")     # menghitung panjang string\n",
        "type(123)         # mengecek tipe data\n",
        "sum([1, 2, 3])    # menjumlahkan isi list\n",
        "max([1, 5, 3])    # mencari nilai maksimum\n"
      ],
      "metadata": {
        "colab": {
          "base_uri": "https://localhost:8080/"
        },
        "id": "2axOn2YBNFTO",
        "outputId": "c811b5bb-67d1-46c3-a698-cb50e4f9fba8"
      },
      "execution_count": null,
      "outputs": [
        {
          "output_type": "stream",
          "name": "stdout",
          "text": [
            "Halo\n"
          ]
        },
        {
          "output_type": "execute_result",
          "data": {
            "text/plain": [
              "5"
            ]
          },
          "metadata": {},
          "execution_count": 11
        }
      ]
    },
    {
      "cell_type": "code",
      "source": [
        "def salam(nama):\n",
        "    print(\"Halo,\", nama)\n",
        "\n",
        "salam(\"Andi\")\n"
      ],
      "metadata": {
        "colab": {
          "base_uri": "https://localhost:8080/"
        },
        "id": "QxoJ_XOONxD8",
        "outputId": "1ff4b7f4-faa3-482b-a57b-abfc4e315647"
      },
      "execution_count": null,
      "outputs": [
        {
          "output_type": "stream",
          "name": "stdout",
          "text": [
            "Halo, Andi\n"
          ]
        }
      ]
    },
    {
      "cell_type": "code",
      "source": [
        "print(\"=== PROGRAM PEMBELIAN OBAT SEDERHANA ===\\n\")\n",
        "\n",
        "# Input data pembeli\n",
        "nama_pembeli = input(\"Masukkan nama pembeli: \")\n",
        "metode_pembayaran = input(\"Masukkan metode pembayaran (Cash/Debit/QRIS): \")\n",
        "\n",
        "# Cek member\n",
        "jawaban_member = input(\"Apakah Anda member? (ya/tidak): \").lower()\n",
        "if jawaban_member == \"ya\":\n",
        "    member = True\n",
        "else:\n",
        "    member = False\n",
        "\n",
        "# Daftar obat & harga (menggunakan list & tuple)\n",
        "daftar_obat = [\"Paracetamol\", \"OBH\", \"Vitamin C\", \"Antibiotik\"]\n",
        "harga_obat = (20000, 32000, 12000, 28000)\n",
        "\n",
        "# Dictionary & Set\n",
        "pembeli = {\"Nama\": nama_pembeli, \"Pembayaran\": metode_pembayaran, \"Member\": member}\n",
        "promo_tersedia = {\"Diskon10\", \"GratisOngkir\", \"Voucher5%\"}\n",
        "\n",
        "# Tampilkan daftar obat\n",
        "print(\"\\nHalo,\", pembeli[\"Nama\"])\n",
        "print(\"Daftar obat yang tersedia:\")\n",
        "for i in range(len(daftar_obat)):\n",
        "    print(f\"{i+1}. {daftar_obat[i]} - Rp{harga_obat[i]}\")\n",
        "\n",
        "# Proses pembelian\n",
        "total = 0\n",
        "jumlah_obat = int(input(\"\\nBerapa jenis obat yang ingin dibeli? \"))\n",
        "\n",
        "hitung = 0\n",
        "while hitung < jumlah_obat:\n",
        "    pilihan = int(input(f\"Masukkan nomor obat ke-{hitung+1}: \"))\n",
        "    if 1 <= pilihan <= len(daftar_obat):\n",
        "        total += harga_obat[pilihan-1]\n",
        "    else:\n",
        "        print(\"Nomor obat tidak valid!\")\n",
        "    hitung += 1\n",
        "\n",
        "# Diskon berdasarkan total pembelian\n",
        "if total > 80000:\n",
        "    diskon = 0.2\n",
        "    kategori = \"Diskon 20%\"\n",
        "elif total > 40000:\n",
        "    diskon = 0.1\n",
        "    kategori = \"Diskon 10%\"\n",
        "else:\n",
        "    diskon = 0\n",
        "    kategori = \"Tanpa Diskon\"\n",
        "\n",
        "# Tambahan diskon member\n",
        "if member:\n",
        "    total_akhir = total - (total * (diskon + 0.08))\n",
        "    tambahan = \"Termasuk diskon member 8%\"\n",
        "else:\n",
        "    total_akhir = total - (total * diskon)\n",
        "    tambahan = \"Tidak termasuk diskon member\"\n",
        "\n",
        "# Cetak struk pembayaran\n",
        "print(\"\\n=== STRUK PEMBAYARAN APOTEK ===\")\n",
        "print(f\"Nama Pembeli      : {pembeli['Nama']}\")\n",
        "print(f\"Metode Pembayaran : {pembeli['Pembayaran']}\")\n",
        "print(f\"Member Aktif      : {pembeli['Member']}\")\n",
        "print(f\"Promo Tersedia    : {promo_tersedia}\")\n",
        "print(f\"Kategori Diskon   : {kategori}\")\n",
        "print(f\"Keterangan        : {tambahan}\")\n",
        "print(f\"Total Bayar       : Rp{int(total_akhir)}\")\n",
        "print(\"Terima kasih sudah membeli obat di apotek kami 💊\")\n",
        "\n"
      ],
      "metadata": {
        "colab": {
          "base_uri": "https://localhost:8080/"
        },
        "id": "_dOFzmgeY4da",
        "outputId": "5ed9ea42-a3a6-4d47-98ec-e989c2762a2d"
      },
      "execution_count": 5,
      "outputs": [
        {
          "output_type": "stream",
          "name": "stdout",
          "text": [
            "=== PROGRAM PEMBELIAN OBAT SEDERHANA ===\n",
            "\n",
            "Masukkan nama pembeli: DEBORA\n",
            "Masukkan metode pembayaran (Cash/Debit/QRIS): CASH\n",
            "Apakah Anda member? (ya/tidak): YA\n",
            "\n",
            "Halo, DEBORA\n",
            "Daftar obat yang tersedia:\n",
            "1. Paracetamol - Rp20000\n",
            "2. OBH - Rp32000\n",
            "3. Vitamin C - Rp12000\n",
            "4. Antibiotik - Rp28000\n",
            "\n",
            "Berapa jenis obat yang ingin dibeli? 3\n",
            "Masukkan nomor obat ke-1: 1\n",
            "Masukkan nomor obat ke-2: 2\n",
            "Masukkan nomor obat ke-3: 4\n",
            "\n",
            "=== STRUK PEMBAYARAN APOTEK ===\n",
            "Nama Pembeli      : DEBORA\n",
            "Metode Pembayaran : CASH\n",
            "Member Aktif      : True\n",
            "Promo Tersedia    : {'Voucher5%', 'Diskon10', 'GratisOngkir'}\n",
            "Kategori Diskon   : Diskon 10%\n",
            "Keterangan        : Termasuk diskon member 8%\n",
            "Total Bayar       : Rp65600\n",
            "Terima kasih sudah membeli obat di apotek kami 💊\n"
          ]
        }
      ]
    }
  ]
}