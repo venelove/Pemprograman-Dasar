{
  "nbformat": 4,
  "nbformat_minor": 0,
  "metadata": {
    "colab": {
      "provenance": [],
      "authorship_tag": "ABX9TyPyQCakl2xbrnsdf/qEq4ZC",
      "include_colab_link": true
    },
    "kernelspec": {
      "name": "python3",
      "display_name": "Python 3"
    },
    "language_info": {
      "name": "python"
    }
  },
  "cells": [
    {
      "cell_type": "markdown",
      "metadata": {
        "id": "view-in-github",
        "colab_type": "text"
      },
      "source": [
        "<a href=\"https://colab.research.google.com/github/venelove/Pemprograman-Dasar/blob/main/praktikum3.ipynb\" target=\"_parent\"><img src=\"https://colab.research.google.com/assets/colab-badge.svg\" alt=\"Open In Colab\"/></a>"
      ]
    },
    {
      "cell_type": "code",
      "execution_count": null,
      "metadata": {
        "colab": {
          "base_uri": "https://localhost:8080/"
        },
        "id": "YqVz99pCOtzR",
        "outputId": "e75455db-fff7-4d7b-9246-9fe10b32c310"
      },
      "outputs": [
        {
          "name": "stdout",
          "output_type": "stream",
          "text": [
            "berapa porsi makan yang anda beli?4\n",
            "siapa nama pelanggan?borara\n",
            "berapa jarak dari kost ke tempat makan?0.8\n"
          ]
        }
      ],
      "source": [
        "total = int (input(\"berapa porsi makan yang anda beli?\"))\n",
        "nama = str (input(\"siapa nama pelanggan?\"))\n",
        "jarak = float (input(\"berapa jarak dari kost ke tempat makan?\"))\n"
      ]
    },
    {
      "cell_type": "code",
      "source": [
        "food = \"kwetiu siram\"\n",
        "print(\"venelove tiap sekali seminggu makan\", food)\n",
        "print(\"venelove tiap sekali seminggu makan\"+ food)\n",
        "print(\"venelove tiap sekali seminggu makan %s\" % (food))"
      ],
      "metadata": {
        "colab": {
          "base_uri": "https://localhost:8080/"
        },
        "id": "KV-BpuluXo7E",
        "outputId": "cdeda53b-41b0-41b5-f746-1c9b5bccef15"
      },
      "execution_count": null,
      "outputs": [
        {
          "output_type": "stream",
          "name": "stdout",
          "text": [
            "venelove tiap sekali seminggu makan kwetiu siram\n",
            "venelove tiap sekali seminggu makankwetiu siram\n",
            "venelove tiap sekali seminggu makan kwetiu siram\n"
          ]
        }
      ]
    },
    {
      "cell_type": "code",
      "source": [
        "bulan_lahir = 8\n",
        "berat = 50.5\n",
        "nama = \"venelove\"\n",
        "\n",
        "print(\"bulan kelahiran saya %d\" % ( bulan_lahir))\n",
        "print(\"berat badan saya sekarang %f\" % (berat))\n",
        "print(\"siapa saya %s\" % (nama))"
      ],
      "metadata": {
        "colab": {
          "base_uri": "https://localhost:8080/"
        },
        "id": "peBoFIO5ZrlM",
        "outputId": "5114765a-76b7-4a7b-cff4-97865619f326"
      },
      "execution_count": null,
      "outputs": [
        {
          "output_type": "stream",
          "name": "stdout",
          "text": [
            "bulan kelahiran saya 8\n",
            "berat badan saya sekarang 50.500000\n",
            "siapa saya venelove\n"
          ]
        }
      ]
    },
    {
      "cell_type": "code",
      "source": [
        "a = 200\n",
        "b = 5\n",
        "print(\"perjumlahan:\", a + b)\n",
        "print(\"perjumlahan:\", a - b)\n",
        "print(\"perjumlahan:\", a * b)\n",
        "print(\"perjumlahan:\", a / b)"
      ],
      "metadata": {
        "colab": {
          "base_uri": "https://localhost:8080/"
        },
        "id": "ETFIyWiUaUGp",
        "outputId": "96d81aaf-f8a4-436c-89f7-9156cfd28ae3"
      },
      "execution_count": null,
      "outputs": [
        {
          "output_type": "stream",
          "name": "stdout",
          "text": [
            "perjumlahan: 205\n",
            "perjumlahan: 195\n",
            "perjumlahan: 1000\n",
            "perjumlahan: 40.0\n"
          ]
        }
      ]
    },
    {
      "cell_type": "code",
      "source": [
        "bilangan = 8\n",
        "hasil = (bilangan > 0) and (bilangan % 2 == 0)\n",
        "print(\"Genap dan positif?\", hasil)\n"
      ],
      "metadata": {
        "colab": {
          "base_uri": "https://localhost:8080/"
        },
        "id": "gp4DptWfc4Sd",
        "outputId": "96832704-6616-47ef-cc95-b1d87b24f000"
      },
      "execution_count": null,
      "outputs": [
        {
          "output_type": "stream",
          "name": "stdout",
          "text": [
            "Genap dan positif? True\n"
          ]
        }
      ]
    },
    {
      "cell_type": "code",
      "source": [
        "harga_makan = int(input(\"berapa harga brownis per kotak\"))\n",
        "jumlah_makan = int(input(\"berapa kotak yang dibeli?\"))\n",
        "total_makan = harga_makan * jumlah_makan\n",
        "\n",
        "print(f\"Harga makan per kotak = {harga_makan}, totalnya adalah {total_makan}\")"
      ],
      "metadata": {
        "colab": {
          "base_uri": "https://localhost:8080/"
        },
        "id": "zFjPtIdBePjE",
        "outputId": "c87df00f-0b9c-4eab-e3ab-5db365678df8"
      },
      "execution_count": null,
      "outputs": [
        {
          "output_type": "stream",
          "name": "stdout",
          "text": [
            "berapa harga brownis per kotak65000\n",
            "berapa kotak yang dibeli?3\n",
            "Harga makan per kotak = 65000, totalnya adalah 195000\n"
          ]
        }
      ]
    },
    {
      "cell_type": "code",
      "source": [
        "#konversi waktu\n",
        "total_detik = 3600\n",
        "jam = total_detik // 3600\n",
        "sisa_detik = total_detik % 3600\n",
        "menit = sisa_detik // 6\n",
        "detik = sisa_detik % 60\n",
        "\n",
        "print(f\"Hasil Konversi: {jam} Jam, (menit) Menit, (detik) Detik\")\n",
        "\n",
        "total_detik = int (input(\"total_detik\"))"
      ],
      "metadata": {
        "colab": {
          "base_uri": "https://localhost:8080/"
        },
        "id": "mErb48b6e67l",
        "outputId": "65da0a4b-ddfb-4955-b849-206008ac4777"
      },
      "execution_count": null,
      "outputs": [
        {
          "name": "stdout",
          "output_type": "stream",
          "text": [
            "Hasil Konversi: 1 Jam, (menit) Menit, (detik) Detik\n",
            "total_detik358200\n"
          ]
        }
      ]
    },
    {
      "cell_type": "code",
      "source": [
        "tugas = 100\n",
        "uts = 99\n",
        "uas = 98\n",
        "nilai_akhir = (0.3 * tugas) + (0.3 * uts) + (0.4 * uas)\n",
        "print(\"Nilai akhir =\", nilai_akhir)"
      ],
      "metadata": {
        "colab": {
          "base_uri": "https://localhost:8080/"
        },
        "id": "t0lxg_9mgygm",
        "outputId": "7bc3cd75-0446-4e26-d8c6-3e14c4d72531"
      },
      "execution_count": null,
      "outputs": [
        {
          "output_type": "stream",
          "name": "stdout",
          "text": [
            "Nilai akhir = 98.9\n"
          ]
        }
      ]
    },
    {
      "cell_type": "code",
      "source": [
        "nilai_mahasiswa = 89\n",
        "\n",
        "standar_kelulusan = 75\n",
        "\n",
        "apakah_lulus = nilai_mahasiswa >= standar_kelulusan\n",
        "\n",
        "perlu_remedial = nilai_mahasiswa < standar_kelulusan\n",
        "\n",
        "print(f\"Nilai Mahasiswa: {nilai_mahasiswa}\")\n",
        "\n",
        "print(f\"Standar Kelulusan: {standar_kelulusan}\")\n",
        "\n",
        "print(f\"Apakah Mahasiswa Lulus? {apakah_lulus}\")\n",
        "\n",
        "print(f\"Perlu Remedial? {perlu_remedial}\")\n",
        "\n",
        "nilai_mahasiswa = int (input(\"nilai_mahasiswa\"))\n",
        "standar_kelulusan = int (input(\"standar Kelulusan\"))"
      ],
      "metadata": {
        "colab": {
          "base_uri": "https://localhost:8080/"
        },
        "id": "aUfb_GlEintp",
        "outputId": "b72d19b9-7be8-4c9d-95be-0b20de27650a"
      },
      "execution_count": null,
      "outputs": [
        {
          "name": "stdout",
          "output_type": "stream",
          "text": [
            "Nilai Mahasiswa: 89\n",
            "Standar Kelulusan: 75\n",
            "Apakah Mahasiswa Lulus? True\n",
            "Perlu Remedial? False\n",
            "nilai_mahasiswa89\n",
            "standar Kelulusan75\n"
          ]
        }
      ]
    },
    {
      "cell_type": "code",
      "source": [],
      "metadata": {
        "id": "D_LPSEa3jo7F"
      },
      "execution_count": null,
      "outputs": []
    },
    {
      "cell_type": "code",
      "source": [
        "belanja = 1000000\n",
        "diskon = (0, 0.1 * belanja)[belanja > 250000]\n",
        "total_harga = belanja - diskon\n",
        "print(\"Total harga setelah diskon =\", total_harga)"
      ],
      "metadata": {
        "colab": {
          "base_uri": "https://localhost:8080/"
        },
        "id": "SpFEkc3hky26",
        "outputId": "441a8713-5f34-4551-a6de-c81e6023e679"
      },
      "execution_count": null,
      "outputs": [
        {
          "output_type": "stream",
          "name": "stdout",
          "text": [
            "Total harga setelah diskon = 900000.0\n"
          ]
        }
      ]
    },
    {
      "cell_type": "code",
      "source": [],
      "metadata": {
        "id": "e2n_AXS5lfOl"
      },
      "execution_count": null,
      "outputs": []
    }
  ]
}