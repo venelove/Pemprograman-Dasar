{
  "nbformat": 4,
  "nbformat_minor": 0,
  "metadata": {
    "colab": {
      "provenance": [],
      "authorship_tag": "ABX9TyOjDXkFiaDZBuuyfyJ4uXLs",
      "include_colab_link": true
    },
    "kernelspec": {
      "name": "python3",
      "display_name": "Python 3"
    },
    "language_info": {
      "name": "python"
    }
  },
  "cells": [
    {
      "cell_type": "markdown",
      "metadata": {
        "id": "view-in-github",
        "colab_type": "text"
      },
      "source": [
        "<a href=\"https://colab.research.google.com/github/venelove/Pemprograman-Dasar/blob/main/Pertemuan_Dua.ipynb\" target=\"_parent\"><img src=\"https://colab.research.google.com/assets/colab-badge.svg\" alt=\"Open In Colab\"/></a>"
      ]
    },
    {
      "cell_type": "code",
      "execution_count": 4,
      "metadata": {
        "id": "R7wyHdWLRogg",
        "colab": {
          "base_uri": "https://localhost:8080/"
        },
        "outputId": "64ff0818-0abb-4d65-ee1e-f348132f3fcd"
      },
      "outputs": [
        {
          "output_type": "stream",
          "name": "stdout",
          "text": [
            "<class 'int'>\n",
            "<class 'float'>\n"
          ]
        }
      ],
      "source": [
        "age = 17\n",
        "salary = 5000000.0\n",
        "\n",
        "print(type(age))\n",
        "print(type(salary))\n"
      ]
    },
    {
      "cell_type": "code",
      "source": [
        "x = 6\n",
        "print(type(x))\n",
        "x = 6.0\n",
        "print(type(x))\n",
        "x = 1+2j\n",
        "print(type(x))\n"
      ],
      "metadata": {
        "colab": {
          "base_uri": "https://localhost:8080/"
        },
        "id": "LULspDUhYm64",
        "outputId": "48aa8055-5dc4-4133-8650-e90e3dbefa07"
      },
      "execution_count": 6,
      "outputs": [
        {
          "output_type": "stream",
          "name": "stdout",
          "text": [
            "<class 'int'>\n",
            "<class 'float'>\n",
            "<class 'complex'>\n"
          ]
        }
      ]
    },
    {
      "cell_type": "code",
      "source": [
        "var = 10\n",
        "print(var)\n",
        "print(id(var))\n",
        "var = 11\n",
        "print(var)\n",
        "print(id(var))\n"
      ],
      "metadata": {
        "colab": {
          "base_uri": "https://localhost:8080/"
        },
        "id": "Ym5FNdafaGeQ",
        "outputId": "a2c2a293-6895-4e93-8761-4fc9ea0c5403"
      },
      "execution_count": 10,
      "outputs": [
        {
          "output_type": "stream",
          "name": "stdout",
          "text": [
            "10\n",
            "11642376\n",
            "11\n",
            "11642408\n"
          ]
        }
      ]
    },
    {
      "cell_type": "code",
      "source": [
        "x = True\n",
        "print(type(x))\n",
        "x = False\n",
        "print(type(x))"
      ],
      "metadata": {
        "colab": {
          "base_uri": "https://localhost:8080/"
        },
        "id": "c5SIqw6HaP7I",
        "outputId": "8aaccddf-6c98-4dd3-d233-994ba203392e"
      },
      "execution_count": 11,
      "outputs": [
        {
          "output_type": "stream",
          "name": "stdout",
          "text": [
            "<class 'bool'>\n",
            "<class 'bool'>\n"
          ]
        }
      ]
    },
    {
      "cell_type": "code",
      "source": [
        "x = 'Polibatam'\n",
        "print(type(x))\n"
      ],
      "metadata": {
        "colab": {
          "base_uri": "https://localhost:8080/"
        },
        "id": "yYkKc5-9a7Zh",
        "outputId": "09201f42-b869-4b07-f640-497b2f7f1466"
      },
      "execution_count": 13,
      "outputs": [
        {
          "output_type": "stream",
          "name": "stdout",
          "text": [
            "<class 'str'>\n"
          ]
        }
      ]
    },
    {
      "cell_type": "code",
      "source": [
        "multi_line = \"\"\"Halo!\n",
        "Kapan terakhir kali kita makan?\n",
        "kita makan hari Jum'at yang lalu\"\"\"\n",
        "print(multi_line)\n"
      ],
      "metadata": {
        "colab": {
          "base_uri": "https://localhost:8080/"
        },
        "id": "lqVJ-Nz6bJUg",
        "outputId": "097200b6-9934-493f-bd2a-68b1226879dc"
      },
      "execution_count": 17,
      "outputs": [
        {
          "output_type": "stream",
          "name": "stdout",
          "text": [
            "Halo!\n",
            "Kapan terakhir kali kita makan?\n",
            "kita makan hari Jum'at yang lalu\n"
          ]
        }
      ]
    },
    {
      "cell_type": "code",
      "source": [
        "x = 'Venelove'\n",
        "print(x[0])"
      ],
      "metadata": {
        "colab": {
          "base_uri": "https://localhost:8080/"
        },
        "id": "CFOzAH9EbQJ4",
        "outputId": "7da28b06-4452-467e-d8e0-da2bfe9340dc"
      },
      "execution_count": 19,
      "outputs": [
        {
          "output_type": "stream",
          "name": "stdout",
          "text": [
            "V\n"
          ]
        }
      ]
    },
    {
      "cell_type": "code",
      "source": [
        "x = 'Venslove'\n",
        "x[0] = 'f'"
      ],
      "metadata": {
        "colab": {
          "base_uri": "https://localhost:8080/",
          "height": 158
        },
        "id": "soDiZGD6cMic",
        "outputId": "d46f69dd-4225-45f3-83e7-aed0e463ccfc"
      },
      "execution_count": 20,
      "outputs": [
        {
          "output_type": "error",
          "ename": "TypeError",
          "evalue": "'str' object does not support item assignment",
          "traceback": [
            "\u001b[0;31m---------------------------------------------------------------------------\u001b[0m",
            "\u001b[0;31mTypeError\u001b[0m                                 Traceback (most recent call last)",
            "\u001b[0;32m/tmp/ipython-input-2100042387.py\u001b[0m in \u001b[0;36m<cell line: 0>\u001b[0;34m()\u001b[0m\n\u001b[1;32m      1\u001b[0m \u001b[0mx\u001b[0m \u001b[0;34m=\u001b[0m \u001b[0;34m'Venslove'\u001b[0m\u001b[0;34m\u001b[0m\u001b[0;34m\u001b[0m\u001b[0m\n\u001b[0;32m----> 2\u001b[0;31m \u001b[0mx\u001b[0m\u001b[0;34m[\u001b[0m\u001b[0;36m0\u001b[0m\u001b[0;34m]\u001b[0m \u001b[0;34m=\u001b[0m \u001b[0;34m'f'\u001b[0m\u001b[0;34m\u001b[0m\u001b[0;34m\u001b[0m\u001b[0m\n\u001b[0m",
            "\u001b[0;31mTypeError\u001b[0m: 'str' object does not support item assignment"
          ]
        }
      ]
    },
    {
      "cell_type": "code",
      "source": [
        "x = 'Yogyakarta'\n",
        "print(x[2:])\n"
      ],
      "metadata": {
        "colab": {
          "base_uri": "https://localhost:8080/"
        },
        "id": "bvlDeQpAchzU",
        "outputId": "1d782ed7-01ab-4169-b76e-b6ccaba62d14"
      },
      "execution_count": 22,
      "outputs": [
        {
          "output_type": "stream",
          "name": "stdout",
          "text": [
            "gyakarta\n"
          ]
        }
      ]
    },
    {
      "cell_type": "code",
      "source": [
        "name = \"Vene Love\"\n",
        "print(f\"Hallo, nama saya {name}\")"
      ],
      "metadata": {
        "colab": {
          "base_uri": "https://localhost:8080/"
        },
        "id": "Hjw_92Isc0mG",
        "outputId": "d5a1bf86-69e0-49c8-f870-b1b4c94e7dff"
      },
      "execution_count": 29,
      "outputs": [
        {
          "output_type": "stream",
          "name": "stdout",
          "text": [
            "Hallo, nama saya Vene Love\n"
          ]
        }
      ]
    },
    {
      "cell_type": "code",
      "source": [
        "name = \" Saya Debo\"\n",
        "print(\"Siapa saya %s\" % (name))"
      ],
      "metadata": {
        "colab": {
          "base_uri": "https://localhost:8080/"
        },
        "id": "LsEl3_qmdO9W",
        "outputId": "94978d07-85c7-4fd3-ee2c-c07d45034cfc"
      },
      "execution_count": 31,
      "outputs": [
        {
          "output_type": "stream",
          "name": "stdout",
          "text": [
            "Siapa saya  Saya Debo\n"
          ]
        }
      ]
    },
    {
      "cell_type": "code",
      "source": [
        "nama = \"Cinta\"\n",
        "print(\"Love itu apa :\", nama)"
      ],
      "metadata": {
        "colab": {
          "base_uri": "https://localhost:8080/"
        },
        "id": "nLPPIJdMeMPD",
        "outputId": "84d63234-138e-4941-d3d5-0d294028120b"
      },
      "execution_count": 33,
      "outputs": [
        {
          "output_type": "stream",
          "name": "stdout",
          "text": [
            "Love itu apa : Cinta\n"
          ]
        }
      ]
    },
    {
      "cell_type": "code",
      "source": [
        "x = [1, 2.2, 'Polibatam']\n",
        "print(type(x))"
      ],
      "metadata": {
        "colab": {
          "base_uri": "https://localhost:8080/"
        },
        "id": "xIWjdf7je5Sj",
        "outputId": "631f16e3-1cfc-4da0-b464-e1d85644f9e8"
      },
      "execution_count": 35,
      "outputs": [
        {
          "output_type": "stream",
          "name": "stdout",
          "text": [
            "<class 'list'>\n"
          ]
        }
      ]
    },
    {
      "cell_type": "code",
      "source": [
        "x = [1, 2.2, 'Dicoding']\n",
        "print(x)"
      ],
      "metadata": {
        "colab": {
          "base_uri": "https://localhost:8080/"
        },
        "id": "L_ytIT3FnUfH",
        "outputId": "1e03b5c5-872e-4638-816d-103f566f32a3"
      },
      "execution_count": 36,
      "outputs": [
        {
          "output_type": "stream",
          "name": "stdout",
          "text": [
            "[1, 2.2, 'Dicoding']\n"
          ]
        }
      ]
    },
    {
      "cell_type": "code",
      "source": [
        "x = [1, 'Polibatam', True, 1.0]\n",
        "print(x[2])\n"
      ],
      "metadata": {
        "colab": {
          "base_uri": "https://localhost:8080/"
        },
        "id": "RwTBb14unhvD",
        "outputId": "294c718b-94de-4f75-8fab-0c7396cbaf30"
      },
      "execution_count": 37,
      "outputs": [
        {
          "output_type": "stream",
          "name": "stdout",
          "text": [
            "True\n"
          ]
        }
      ]
    },
    {
      "cell_type": "code",
      "source": [
        "x = [1, 2.2, 'Polibatam']\n",
        "x[0] = 'Indonesia'\n",
        "print(x)"
      ],
      "metadata": {
        "colab": {
          "base_uri": "https://localhost:8080/"
        },
        "id": "CtQTMghonxhg",
        "outputId": "d820d948-9500-4ffa-e169-b25648b764d7"
      },
      "execution_count": 39,
      "outputs": [
        {
          "output_type": "stream",
          "name": "stdout",
          "text": [
            "['Indonesia', 2.2, 'Polibatam']\n"
          ]
        }
      ]
    },
    {
      "cell_type": "code",
      "source": [
        "# deklarasi variabel list\n",
        "numbers = [ 1,4,8,9]\n",
        "# cara mengakses elemen dalam variabel list\n",
        "numbers [0] # 01\n",
        "numbers [1] # 04\n",
        "numbers [2] # 08\n",
        "numbers [3] # 09\n",
        "# cara mengubah nilai elemen dalam variabel list\n",
        "numbers[2] # 4\n",
        "numbers[2] # 4\n",
        "\n",
        "print (numbers[1]) #lakukan untuk setiap indexnya dan lihat hasilnya"
      ],
      "metadata": {
        "colab": {
          "base_uri": "https://localhost:8080/"
        },
        "id": "Q16YzKLHoHq3",
        "outputId": "5cdf6cb1-6283-4b29-e0ef-000dcb1b718d"
      },
      "execution_count": 42,
      "outputs": [
        {
          "output_type": "stream",
          "name": "stdout",
          "text": [
            "4\n"
          ]
        }
      ]
    },
    {
      "cell_type": "code",
      "source": [
        "# deklarasi variabel list numbers\n",
        "numbers = [1, 2, 3]\n",
        "\n",
        "# menambahkan elemen di indeks ke-4\n",
        "numbers.insert(4, 5)     # [1, 2, 3, 5]\n",
        "\n",
        "# mengubah elemen di indeks ke-4\n",
        "numbers[3] = 4      # [1, 2, 3, 4]\n",
        "\n",
        "# menghapus elemen di indeks ke-2\n",
        "numbers.pop(2)    #[1, 2, 4]\n",
        "\n",
        "#print lalu lihat hasilnya"
      ],
      "metadata": {
        "colab": {
          "base_uri": "https://localhost:8080/"
        },
        "id": "INIgyS6kpSdh",
        "outputId": "df662904-3507-4a04-8d18-fc401d2d456e"
      },
      "execution_count": 46,
      "outputs": [
        {
          "output_type": "execute_result",
          "data": {
            "text/plain": [
              "3"
            ]
          },
          "metadata": {},
          "execution_count": 46
        }
      ]
    },
    {
      "cell_type": "code",
      "source": [],
      "metadata": {
        "id": "sr30gQ6GtT5Q"
      },
      "execution_count": null,
      "outputs": []
    }
  ]
}