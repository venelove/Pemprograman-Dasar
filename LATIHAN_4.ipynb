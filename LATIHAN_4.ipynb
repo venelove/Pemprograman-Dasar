{
  "nbformat": 4,
  "nbformat_minor": 0,
  "metadata": {
    "colab": {
      "provenance": [],
      "authorship_tag": "ABX9TyOviMcDqfico2h2E0H9/lPH",
      "include_colab_link": true
    },
    "kernelspec": {
      "name": "python3",
      "display_name": "Python 3"
    },
    "language_info": {
      "name": "python"
    }
  },
  "cells": [
    {
      "cell_type": "markdown",
      "metadata": {
        "id": "view-in-github",
        "colab_type": "text"
      },
      "source": [
        "<a href=\"https://colab.research.google.com/github/venelove/Pemprograman-Dasar/blob/main/LATIHAN_4.ipynb\" target=\"_parent\"><img src=\"https://colab.research.google.com/assets/colab-badge.svg\" alt=\"Open In Colab\"/></a>"
      ]
    },
    {
      "cell_type": "code",
      "execution_count": 4,
      "metadata": {
        "colab": {
          "base_uri": "https://localhost:8080/"
        },
        "id": "aIHH6W-8REkG",
        "outputId": "a554dfdc-0f19-49b6-8536-646d04b6eb73"
      },
      "outputs": [
        {
          "output_type": "stream",
          "name": "stdout",
          "text": [
            "Masukkan angka: 205\n",
            "Kelipatan 5\n"
          ]
        }
      ],
      "source": [
        "# 1. Cek kelipatan 5\n",
        "n = int(input(\"Masukkan angka: \"))\n",
        "if n % 5 == 0:\n",
        "    print(\"Kelipatan 5\")\n",
        "else:\n",
        "    print(\"Bukan kelipatan 5\")"
      ]
    },
    {
      "cell_type": "code",
      "source": [
        "# 2. Cek tahun kabisat\n",
        "tahun = int(input(\"Masukkan tahun: \"))\n",
        "if tahun % 400 == 0:\n",
        "    print(\"Tahun kabisat\")\n",
        "elif tahun % 100 == 0:\n",
        "    print(\"Bukan kabisat\")\n",
        "elif tahun % 4 == 0:\n",
        "    print(\"Tahun kabisat\")\n",
        "else:\n",
        "    print(\"Bukan kabisat\")"
      ],
      "metadata": {
        "colab": {
          "base_uri": "https://localhost:8080/"
        },
        "id": "gw_AEtJsRbj9",
        "outputId": "730e532c-b883-49d4-fd9a-a69a09e7dc5c"
      },
      "execution_count": 5,
      "outputs": [
        {
          "output_type": "stream",
          "name": "stdout",
          "text": [
            "Masukkan tahun: 2005\n",
            "Bukan kabisat\n"
          ]
        }
      ]
    },
    {
      "cell_type": "code",
      "source": [
        "# 3. Cek segitiga dan tipe\n",
        "a, b, c = map(float, input(\"Masukkan tiga sisi (pisah spasi): \").split())\n",
        "\n",
        "# cek ketidak samaan segitiga\n",
        "if a + b > c and a + c > b and b + c > a:\n",
        "    if a == b == c:\n",
        "        print(\"Segitiga sama sisi\")\n",
        "    elif a == b or b == c or a == c:\n",
        "        print(\"Segitiga sama kaki\")\n",
        "    else:\n",
        "        print(\"Segitiga sembarang\")\n",
        "else:\n",
        "    print(\"Bukan segitiga (salah satu ketentuan segitiga tidak terpenuhi)\")"
      ],
      "metadata": {
        "colab": {
          "base_uri": "https://localhost:8080/"
        },
        "id": "cHcirGNyR3JI",
        "outputId": "d0f883d3-9c10-4fee-d56a-d4aab3714b94"
      },
      "execution_count": 6,
      "outputs": [
        {
          "output_type": "stream",
          "name": "stdout",
          "text": [
            "Masukkan tiga sisi (pisah spasi): 2 2 3\n",
            "Segitiga sama kaki\n"
          ]
        }
      ]
    },
    {
      "cell_type": "code",
      "source": [
        "# 4. Tampilkan nama bulan dari angka 1-12\n",
        "bulan = int(input(\"Masukkan nomor bulan (1-12): \"))\n",
        "nama = {\n",
        "    1:\"Januari\", 2:\"Februari\", 3:\"Maret\", 4:\"April\",\n",
        "    5:\"Mei\", 6:\"Juni\", 7:\"Juli\", 8:\"Agustus\",\n",
        "    9:\"September\", 10:\"Oktober\", 11:\"November\", 12:\"Desember\"\n",
        "}\n",
        "if 1 <= bulan <= 12:\n",
        "    print(nama[bulan])\n",
        "else:\n",
        "    print(\"Input salah\")"
      ],
      "metadata": {
        "colab": {
          "base_uri": "https://localhost:8080/"
        },
        "id": "9__CCoukSAOy",
        "outputId": "52e252e2-aac0-48f0-dbf7-ddf28bc92aad"
      },
      "execution_count": 7,
      "outputs": [
        {
          "output_type": "stream",
          "name": "stdout",
          "text": [
            "Masukkan nomor bulan (1-12): 9\n",
            "September\n"
          ]
        }
      ]
    },
    {
      "cell_type": "code",
      "source": [
        "# 5. Salam berdasarkan jam\n",
        "jam = int(input(\"Masukkan jam (0-23): \"))\n",
        "\n",
        "if 0 <= jam <= 11:\n",
        "    print(\"Selamat Pagi\")\n",
        "elif 12 <= jam <= 15:\n",
        "    print(\"Selamat Siang\")\n",
        "elif 16 <= jam <= 18:\n",
        "    print(\"Selamat Sore\")\n",
        "elif 19 <= jam <= 23:\n",
        "    print(\"Selamat Malam\")\n",
        "else:\n",
        "    print(\"Jam tidak valid\")"
      ],
      "metadata": {
        "colab": {
          "base_uri": "https://localhost:8080/"
        },
        "id": "hAUOVZbOSSvK",
        "outputId": "734e9a11-9fc5-48c9-db75-e601d4bce33a"
      },
      "execution_count": 8,
      "outputs": [
        {
          "output_type": "stream",
          "name": "stdout",
          "text": [
            "Masukkan jam (0-23): 4\n",
            "Selamat Pagi\n"
          ]
        }
      ]
    },
    {
      "cell_type": "code",
      "source": [],
      "metadata": {
        "id": "akcQ2Fq-SctJ"
      },
      "execution_count": null,
      "outputs": []
    }
  ]
}