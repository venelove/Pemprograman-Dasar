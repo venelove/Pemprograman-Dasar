{
  "nbformat": 4,
  "nbformat_minor": 0,
  "metadata": {
    "colab": {
      "provenance": [],
      "authorship_tag": "ABX9TyPkCZdynPPBydLtpEOYBp9f",
      "include_colab_link": true
    },
    "kernelspec": {
      "name": "python3",
      "display_name": "Python 3"
    },
    "language_info": {
      "name": "python"
    }
  },
  "cells": [
    {
      "cell_type": "markdown",
      "metadata": {
        "id": "view-in-github",
        "colab_type": "text"
      },
      "source": [
        "<a href=\"https://colab.research.google.com/github/venelove/Pemprograman-Dasar/blob/main/Tugas_Pertemuan_2.ipynb\" target=\"_parent\"><img src=\"https://colab.research.google.com/assets/colab-badge.svg\" alt=\"Open In Colab\"/></a>"
      ]
    },
    {
      "cell_type": "code",
      "execution_count": 1,
      "metadata": {
        "colab": {
          "base_uri": "https://localhost:8080/"
        },
        "id": "weIpE1fK9OHk",
        "outputId": "8948af89-8d9e-4f67-9589-efe9f05713d7"
      },
      "outputs": [
        {
          "output_type": "stream",
          "name": "stdout",
          "text": [
            "<class 'str'>\n",
            "<class 'str'>\n",
            "<class 'int'>\n",
            "<class 'bool'>\n"
          ]
        }
      ],
      "source": [
        "FirstName = 'Debora'\n",
        "LastName = 'Venelove'\n",
        "age = 20\n",
        "isMarried = False\n",
        "\n",
        "print(type(FirstName))\n",
        "print(type(LastName))\n",
        "print(type(age))\n",
        "print(type(isMarried))"
      ]
    },
    {
      "cell_type": "code",
      "source": [
        "# Buatlah Variabel Dictionary dengan nama \"data_diri\"\n",
        "\n",
        "data_diri = { 'firstName': 'Debora', 'LastName': 'Venelove', 'age': 20, 'isMarried': False}\n",
        "\n",
        "print(type(data_diri))"
      ],
      "metadata": {
        "colab": {
          "base_uri": "https://localhost:8080/"
        },
        "id": "7J3-oT4g9WVb",
        "outputId": "7d45e2ab-899f-46fb-cf37-970f67411190"
      },
      "execution_count": 2,
      "outputs": [
        {
          "output_type": "stream",
          "name": "stdout",
          "text": [
            "<class 'dict'>\n"
          ]
        }
      ]
    },
    {
      "cell_type": "code",
      "source": [
        "# Buatlah Variabel \"Inspeksi\" bertipe data list untuk menyimpan daftar Inspeksi\n",
        "\n",
        "Inspeksi = [\"pemahaman terhadap rencana dan desain\",\n",
        "            \"ketersediaan bahan dan peralatan\",\n",
        "            \"pengawasan pekerjaan\",\n",
        "            \"kualitas konstruksi\",\n",
        "            \"keselamatan kerja\",\n",
        "            \"koordinasi dengan pemilik proyek\"]\n",
        "\n",
        "for i, item in enumerate(Inspeksi, start=1): print(f\"{i}. {item}\")"
      ],
      "metadata": {
        "colab": {
          "base_uri": "https://localhost:8080/"
        },
        "id": "RSQZ39de9hmZ",
        "outputId": "957f1f9d-8444-4f1e-bba4-0cd4e314d113"
      },
      "execution_count": 3,
      "outputs": [
        {
          "output_type": "stream",
          "name": "stdout",
          "text": [
            "1. pemahaman terhadap rencana dan desain\n",
            "2. ketersediaan bahan dan peralatan\n",
            "3. pengawasan pekerjaan\n",
            "4. kualitas konstruksi\n",
            "5. keselamatan kerja\n",
            "6. koordinasi dengan pemilik proyek\n"
          ]
        }
      ]
    },
    {
      "cell_type": "code",
      "source": [
        "# Buatlah variabel startTime sbg waktu datang dan variabel endTime sbg waktu pulang bertipe data \"dictionary\"\n",
        "\n",
        "startTime = {\"HH\": 9, \"mm\": 23, \"ss\": 57}\n",
        "endTime = {\"HH\": 15, \"mm\": 25, \"ss\": 43}\n",
        "\n",
        "print(\"Waktu datang:\", startTime)\n",
        "print(\"Waktu pulang:\", endTime)"
      ],
      "metadata": {
        "colab": {
          "base_uri": "https://localhost:8080/"
        },
        "id": "v9ni1oq39v8F",
        "outputId": "eda4949d-62db-4624-9986-fd9d3b683ca3"
      },
      "execution_count": 4,
      "outputs": [
        {
          "output_type": "stream",
          "name": "stdout",
          "text": [
            "Waktu datang: {'HH': 9, 'mm': 23, 'ss': 57}\n",
            "Waktu pulang: {'HH': 15, 'mm': 25, 'ss': 43}\n"
          ]
        }
      ]
    },
    {
      "cell_type": "code",
      "source": [
        "# STUDI KASUS : PENGGABUNGAN DAN ANALISIS KATALOG PRODUK\n",
        "\n",
        "katalog_A = {\"Laptop\", \"Printer\", \"Mouse\", \"Keyboard\"}\n",
        "katalog_B = {\"Monitor\", \"Mouse\", \"Speaker\", \"Printer\"}\n",
        "produk_diskon = (\"Mouse\", \"Keyboard\", \"Speaker\")\n",
        "katalog_lengkap = katalog_A.union(katalog_B)\n",
        "produk_promo_aktif = katalog_lengkap.intersection(set(produk_diskon))\n",
        "\n",
        "print(\"Katalog Lengkap :\", katalog_lengkap)\n",
        "print(\"Produk Promo Aktif :\", produk_promo_aktif)"
      ],
      "metadata": {
        "colab": {
          "base_uri": "https://localhost:8080/"
        },
        "id": "or0e4ah39y0G",
        "outputId": "9491ac31-79af-49c6-e2b1-0ef31b58670b"
      },
      "execution_count": 5,
      "outputs": [
        {
          "output_type": "stream",
          "name": "stdout",
          "text": [
            "Katalog Lengkap : {'Monitor', 'Speaker', 'Keyboard', 'Laptop', 'Printer', 'Mouse'}\n",
            "Produk Promo Aktif : {'Keyboard', 'Mouse', 'Speaker'}\n"
          ]
        }
      ]
    },
    {
      "cell_type": "code",
      "source": [],
      "metadata": {
        "id": "CrquHcwl93or"
      },
      "execution_count": null,
      "outputs": []
    }
  ]
}