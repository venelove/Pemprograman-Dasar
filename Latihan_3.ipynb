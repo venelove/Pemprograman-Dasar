{
  "nbformat": 4,
  "nbformat_minor": 0,
  "metadata": {
    "colab": {
      "provenance": [],
      "authorship_tag": "ABX9TyMLh+DP6cnL1EfMffANDF3a",
      "include_colab_link": true
    },
    "kernelspec": {
      "name": "python3",
      "display_name": "Python 3"
    },
    "language_info": {
      "name": "python"
    }
  },
  "cells": [
    {
      "cell_type": "markdown",
      "metadata": {
        "id": "view-in-github",
        "colab_type": "text"
      },
      "source": [
        "<a href=\"https://colab.research.google.com/github/venelove/Pemprograman-Dasar/blob/main/Latihan_3.ipynb\" target=\"_parent\"><img src=\"https://colab.research.google.com/assets/colab-badge.svg\" alt=\"Open In Colab\"/></a>"
      ]
    },
    {
      "cell_type": "code",
      "execution_count": null,
      "metadata": {
        "colab": {
          "base_uri": "https://localhost:8080/"
        },
        "id": "BodjDy12EArB",
        "outputId": "c647415b-443c-4dd3-c389-f06bd0a103d1"
      },
      "outputs": [
        {
          "output_type": "stream",
          "name": "stdout",
          "text": [
            "Masukkan tahun: 2030\n",
            "2030 bukan tahun kabisat.\n"
          ]
        }
      ],
      "source": [
        "tahun = int(input(\"Masukkan tahun: \"))\n",
        "\n",
        "print((f\"{tahun} adalah tahun kabisat.\") * (((tahun % 4 == 0 and tahun % 100 != 0) or (tahun % 400 == 0)))\n",
        "or f\"{tahun} bukan tahun kabisat.\")"
      ]
    }
  ]
}