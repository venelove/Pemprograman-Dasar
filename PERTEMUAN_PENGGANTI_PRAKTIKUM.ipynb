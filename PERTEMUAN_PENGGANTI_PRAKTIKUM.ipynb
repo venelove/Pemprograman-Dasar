{
  "nbformat": 4,
  "nbformat_minor": 0,
  "metadata": {
    "colab": {
      "provenance": [],
      "authorship_tag": "ABX9TyPw0az/26UcK+vsyf/YvkGG",
      "include_colab_link": true
    },
    "kernelspec": {
      "name": "python3",
      "display_name": "Python 3"
    },
    "language_info": {
      "name": "python"
    }
  },
  "cells": [
    {
      "cell_type": "markdown",
      "metadata": {
        "id": "view-in-github",
        "colab_type": "text"
      },
      "source": [
        "<a href=\"https://colab.research.google.com/github/venelove/Pemprograman-Dasar/blob/main/PERTEMUAN_PENGGANTI_PRAKTIKUM.ipynb\" target=\"_parent\"><img src=\"https://colab.research.google.com/assets/colab-badge.svg\" alt=\"Open In Colab\"/></a>"
      ]
    },
    {
      "cell_type": "code",
      "execution_count": null,
      "metadata": {
        "id": "1Nyv4cnf0iTH"
      },
      "outputs": [],
      "source": []
    },
    {
      "cell_type": "code",
      "execution_count": null,
      "metadata": {
        "colab": {
          "base_uri": "https://localhost:8080/"
        },
        "id": "H9q1xxrd1UwP",
        "outputId": "c7346141-9c02-439c-ff23-6a96c6f40b0d"
      },
      "outputs": [
        {
          "output_type": "stream",
          "name": "stdout",
          "text": [
            "Sistem siap. Selamat datang kembali di sesi praktikum.\n"
          ]
        }
      ],
      "source": [
        "# SOAL 1: Fungsi Inisialisasi Sederhana\n",
        "def sapa_praktikan():\n",
        "    \"\"\"Mencetak pesan sambutan dasar.\"\"\"\n",
        "    print(\"Sistem siap. Selamat datang kembali di sesi praktikum.\")\n",
        "\n",
        "sapa_praktikan()"
      ]
    },
    {
      "cell_type": "code",
      "source": [
        "# SOAL 1 Modifikasi: Fungsi Inisialisasi Sederhana\n",
        "def biodata():\n",
        "    \"\"\"Mencetak Biodata Lengkap.\"\"\"\n",
        "    print(\"---BIODATA SAYA---\")\n",
        "    print(\"Nama                   : Debora Venelove\")\n",
        "    print(\"NIM                    : 4232401035\")\n",
        "    print(\"Tempat, Tanggal lahir  : Batam, 4 Agustus 2005 \")\n",
        "    print(\"Status                 : Mahasiswa\")\n",
        "    print(\"Universitas            : Politeknik Negeri Batam\")\n",
        "    print(\"Jurusan                : Teknik Elektro\")\n",
        "    print(\"Program Studi          : Teknologi Rekayasa Pembangkit Energi\")\n",
        "    print(\"Semester               : 3\")\n",
        "\n",
        "\n",
        "biodata()"
      ],
      "metadata": {
        "colab": {
          "base_uri": "https://localhost:8080/"
        },
        "id": "ugDwZ4tvxbC-",
        "outputId": "a032e4f7-4609-4641-f03a-f9e4a7fc8fc0"
      },
      "execution_count": 1,
      "outputs": [
        {
          "output_type": "stream",
          "name": "stdout",
          "text": [
            "---BIODATA SAYA---\n",
            "Nama                   : Debora Venelove\n",
            "NIM                    : 4232401035\n",
            "Tempat, Tanggal lahir  : Batam, 4 Agustus 2005 \n",
            "Status                 : Mahasiswa\n",
            "Universitas            : Politeknik Negeri Batam\n",
            "Jurusan                : Teknik Elektro\n",
            "Program Studi          : Teknologi Rekayasa Pembangkit Energi\n",
            "Semester               : 3\n"
          ]
        }
      ]
    },
    {
      "cell_type": "code",
      "source": [
        "# SOAL 2: Menghitung Volume Kubus\n",
        "def hitung_volume_kubus(sisi):\n",
        "    \"\"\"Menghitung volume kubus dari panjang sisinya.\"\"\"\n",
        "    return sisi * 3\n",
        "\n",
        "panjang_sisi = 5\n",
        "print(f\"Volume kubus dengan sisi {panjang_sisi} adalah: {hitung_volume_kubus(panjang_sisi)}\")"
      ],
      "metadata": {
        "colab": {
          "base_uri": "https://localhost:8080/"
        },
        "id": "YHZpq9PJ5Sfy",
        "outputId": "0e5335fe-f597-48d7-b55d-773e81786733"
      },
      "execution_count": null,
      "outputs": [
        {
          "output_type": "stream",
          "name": "stdout",
          "text": [
            "Volume kubus dengan sisi 5 adalah: 15\n"
          ]
        }
      ]
    },
    {
      "cell_type": "code",
      "source": [
        "# SOAL 2 Modifikasi: Menghitung Volume Balok\n",
        "def hitung_volume_balok(Panjang, Lebar, Tinggi):\n",
        "    \"\"\"Menghitung volume Balok dari panjang, Lebar dan, Tinggi.\"\"\"\n",
        "    return Panjang * Lebar * Tinggi\n",
        "\n",
        "panjang = 10\n",
        "lebar = 15\n",
        "tinggi = 5\n",
        "print(f\"Volume Balok dengan Panjang {panjang}, Lebar {lebar}, Tinggi {tinggi} adalah: {hitung_volume_balok(panjang, lebar, tinggi)}\")"
      ],
      "metadata": {
        "colab": {
          "base_uri": "https://localhost:8080/"
        },
        "id": "iqUxMYPD5ohT",
        "outputId": "73b45daf-2abd-4acf-896e-8bb6c43039fc"
      },
      "execution_count": null,
      "outputs": [
        {
          "output_type": "stream",
          "name": "stdout",
          "text": [
            "Volume Balok dengan Panjang 10, Lebar 15, Tinggi 5 adalah: 750\n"
          ]
        }
      ]
    },
    {
      "cell_type": "code",
      "source": [
        "# SOAL 3: Menghitung Rata-rata dari List Nilai\n",
        "def hitung_rata_rata(data_nilai):\n",
        "    \"\"\"Menghitung rata-rata dari list angka menggunakan perulangan for.\"\"\"\n",
        "    total = 0\n",
        "\n",
        "    for nilai in data_nilai:\n",
        "        total += nilai\n",
        "\n",
        "    if total > 0:\n",
        "        return total / 5\n",
        "    return 0\n",
        "\n",
        "nilai_praktikan = [85, 78, 92, 65, 90]\n",
        "print(f\"Nilai rata-rata kelas adalah: {hitung_rata_rata(nilai_praktikan)}\")"
      ],
      "metadata": {
        "colab": {
          "base_uri": "https://localhost:8080/"
        },
        "id": "LDRQ81HP6_OD",
        "outputId": "a9a892f7-4490-4fda-b403-2de4c16f6bc8"
      },
      "execution_count": null,
      "outputs": [
        {
          "output_type": "stream",
          "name": "stdout",
          "text": [
            "Nilai rata-rata kelas adalah: 82.0\n"
          ]
        }
      ]
    },
    {
      "cell_type": "code",
      "source": [
        "# SOAL 3 Modifikasi: Menambahkan pengecekan nilai valid (0–100)\n",
        "def hitung_rata_rata(data_nilai):\n",
        "    \"\"\"Menghitung rata-rata dari list angka dengan pengecekan nilai valid.\"\"\"\n",
        "    total = 0\n",
        "    jumlah_valid = 0\n",
        "\n",
        "    for nilai in data_nilai:\n",
        "        if 0 <= nilai <= 100:\n",
        "            total += nilai\n",
        "            jumlah_valid += 1\n",
        "        else:\n",
        "            print(f\"Nilai {nilai} diabaikan (tidak valid).\")\n",
        "\n",
        "    if jumlah_valid > 0:\n",
        "        return total / jumlah_valid\n",
        "    return 0\n",
        "\n",
        "\n",
        "nilai_praktikan = [85, 78, 92, 65, 90, 123, 150, -77]\n",
        "print(f\"Nilai rata-rata kelas adalah: {hitung_rata_rata(nilai_praktikan)}\")\n"
      ],
      "metadata": {
        "colab": {
          "base_uri": "https://localhost:8080/"
        },
        "id": "RM7Ci9bR7kcR",
        "outputId": "c365b3d8-bce5-4c22-8a2a-098bf0863e7c"
      },
      "execution_count": null,
      "outputs": [
        {
          "output_type": "stream",
          "name": "stdout",
          "text": [
            "Nilai 123 diabaikan (tidak valid).\n",
            "Nilai 150 diabaikan (tidak valid).\n",
            "Nilai -77 diabaikan (tidak valid).\n",
            "Nilai rata-rata kelas adalah: 82.0\n"
          ]
        }
      ]
    },
    {
      "cell_type": "code",
      "source": [
        "# SOAL 4: Sistem Penentuan Predikat Nilai\n",
        "def tentukan_predikat(skor):\n",
        "    \"\"\"Menentukan predikat (A, B, C, D, E) berdasarkan skor.\"\"\"\n",
        "    if skor >= 85:\n",
        "        return \"A\"\n",
        "    elif skor >= 70:\n",
        "        return \"B\"\n",
        "    elif skor >= 60:\n",
        "        return \"C\"\n",
        "    elif skor >= 50:\n",
        "        return \"D\"\n",
        "    else:\n",
        "        return \"E\"\n",
        "\n",
        "print(f\"Skor 75 mendapat predikat: {tentukan_predikat(75)}\")\n",
        "print(f\"Skor 48 mendapat predikat: {tentukan_predikat(48)}\")"
      ],
      "metadata": {
        "colab": {
          "base_uri": "https://localhost:8080/"
        },
        "id": "H0mAblVQ9OZb",
        "outputId": "c78f423d-1c11-49a8-de64-f6911732da03"
      },
      "execution_count": null,
      "outputs": [
        {
          "output_type": "stream",
          "name": "stdout",
          "text": [
            "Skor 75 mendapat predikat: B\n",
            "Skor 48 mendapat predikat: E\n"
          ]
        }
      ]
    },
    {
      "cell_type": "code",
      "source": [
        "# SOAL 4 Modifikasi: Fungsi dengan Pengecekan Tipe Data\n",
        "def tentukan_predikat(skor):\n",
        "    \"\"\"Menentukan predikat (A, B, C, D, E) berdasarkan skor numerik.\"\"\"\n",
        "\n",
        "    if not isinstance(skor, (int, float)):\n",
        "        return \"Error: Skor harus berupa angka (int atau float).\"\n",
        "\n",
        "    if skor >= 85:\n",
        "        return \"A\"\n",
        "    elif skor >= 70:\n",
        "        return \"B\"\n",
        "    elif skor >= 60:\n",
        "        return \"C\"\n",
        "    elif skor >= 50:\n",
        "        return \"D\"\n",
        "    else:\n",
        "        return \"E\"\n",
        "\n",
        "\n",
        "print(f\"Skor 75 mendapat predikat: {tentukan_predikat(75)}\")\n",
        "print(f\"Skor 48 mendapat predikat: {tentukan_predikat(48)}\")\n",
        "print(f\"Skor 90 mendapat predikat: {tentukan_predikat(90)}\")\n",
        "print(f\"Skor 'abc' mendapat predikat: {tentukan_predikat('abc')}\")\n",
        "print(f\"Skor 82.5 mendapat predikat: {tentukan_predikat(82.5)}\")\n"
      ],
      "metadata": {
        "colab": {
          "base_uri": "https://localhost:8080/"
        },
        "id": "mC8iuEg49lSH",
        "outputId": "e4a03b9e-19e0-4f0c-ca9d-a013feb07c57"
      },
      "execution_count": null,
      "outputs": [
        {
          "output_type": "stream",
          "name": "stdout",
          "text": [
            "Skor 75 mendapat predikat: B\n",
            "Skor 48 mendapat predikat: E\n",
            "Skor 90 mendapat predikat: A\n",
            "Skor 'abc' mendapat predikat: Error: Skor harus berupa angka (int atau float).\n",
            "Skor 82.5 mendapat predikat: B\n"
          ]
        }
      ]
    },
    {
      "cell_type": "code",
      "source": [
        "# SOAL 5: Menghitung Faktorial dengan Loop While\n",
        "def hitung_faktorial(n):\n",
        "    \"\"\"Menghitung faktorial dari bilangan positif n.\"\"\"\n",
        "    hasil = 1\n",
        "\n",
        "    while n > 1 :\n",
        "        hasil *= n\n",
        "        n -= 1\n",
        "    return hasil\n",
        "\n",
        "bilangan_n = 4\n",
        "print(f\"Faktorial dari {bilangan_n} adalah: {hitung_faktorial(bilangan_n)}\")"
      ],
      "metadata": {
        "colab": {
          "base_uri": "https://localhost:8080/"
        },
        "id": "iPFYshgl-gc3",
        "outputId": "e2d50443-2715-40c0-bfa9-9f0971b9b640"
      },
      "execution_count": null,
      "outputs": [
        {
          "output_type": "stream",
          "name": "stdout",
          "text": [
            "Faktorial dari 4 adalah: 24\n"
          ]
        }
      ]
    },
    {
      "cell_type": "code",
      "source": [
        "# SOAL 5 Modifikasi: Menghitung Faktorial dengan Loop While (Modifikasi)\n",
        "def hitung_faktorial(n):\n",
        "    \"\"\"Menghitung faktorial dari bilangan bulat positif n menggunakan perulangan while.\"\"\"\n",
        "\n",
        "    if n < 0:\n",
        "        return \"Error: Faktorial tidak terdefinisi untuk bilangan negatif.\"\n",
        "    elif n == 0:\n",
        "        return 1\n",
        "\n",
        "    hasil = 1\n",
        "\n",
        "    while n > 1:\n",
        "        hasil *= n\n",
        "        n -= 1\n",
        "\n",
        "    return hasil\n",
        "\n",
        "\n",
        "bilangan_n = 4\n",
        "print(f\"Faktorial dari {bilangan_n} adalah: {hitung_faktorial(bilangan_n)}\")\n",
        "\n",
        "print(hitung_faktorial(0))\n",
        "print(hitung_faktorial(-5))\n"
      ],
      "metadata": {
        "colab": {
          "base_uri": "https://localhost:8080/"
        },
        "id": "daXOVfWT_TLr",
        "outputId": "c0f601e8-2574-43af-c222-886028c572b5"
      },
      "execution_count": null,
      "outputs": [
        {
          "output_type": "stream",
          "name": "stdout",
          "text": [
            "Faktorial dari 4 adalah: 24\n",
            "1\n",
            "Error: Faktorial tidak terdefinisi untuk bilangan negatif.\n"
          ]
        }
      ]
    },
    {
      "cell_type": "code",
      "source": [
        "# SOAL 6: Analisis Data Suhu Ekstrem (for dan if/elif)\n",
        "def analisis_suhu(data_suhu):\n",
        "    \"\"\"Menghitung jumlah hari Panas dan Dingin dari data_suhu.\"\"\"\n",
        "    panas_count = 0\n",
        "    dingin_count = 0\n",
        "\n",
        "    for suhu in data_suhu:\n",
        "        if suhu >= 35:\n",
        "            panas_count += 1\n",
        "        elif suhu <= 15:\n",
        "            dingin_count += 1\n",
        "\n",
        "    return panas_count, dingin_count\n",
        "\n",
        "suhu_mingguan = [36, 30, 14, 25, 38, 16, 28]\n",
        "jumlah_panas, jumlah_dingin = analisis_suhu(suhu_mingguan)\n",
        "print(f\"Jumlah hari Panas (>=35°C): {jumlah_panas}\")\n",
        "print(f\"Jumlah hari Dingin (<=15°C): {jumlah_dingin}\")"
      ],
      "metadata": {
        "colab": {
          "base_uri": "https://localhost:8080/"
        },
        "id": "uCA_qxFG_oZn",
        "outputId": "7e47d90c-ae3d-47be-e0c2-9a394a162bf6"
      },
      "execution_count": null,
      "outputs": [
        {
          "output_type": "stream",
          "name": "stdout",
          "text": [
            "Jumlah hari Panas (>=35°C): 2\n",
            "Jumlah hari Dingin (<=15°C): 1\n"
          ]
        }
      ]
    },
    {
      "cell_type": "code",
      "source": [
        "# SOAL 6 Modifikasi: Analisis Data Suhu Ekstrem (for dan if/elif)\n",
        "def analisis_suhu(data_suhu, batas_panas=35, batas_dingin=15):\n",
        "    \"\"\"\n",
        "    Menghitung jumlah hari Panas dan Dingin dari data_suhu.\n",
        "    - Panas: suhu >= batas_panas\n",
        "    - Dingin: suhu <= batas_dingin\n",
        "    \"\"\"\n",
        "    panas_count = 0\n",
        "    dingin_count = 0\n",
        "\n",
        "    for suhu in data_suhu:\n",
        "        if suhu >= batas_panas:\n",
        "            panas_count += 1\n",
        "        elif suhu <= batas_dingin:\n",
        "            dingin_count += 1\n",
        "\n",
        "    return panas_count, dingin_count\n",
        "\n",
        "\n",
        "suhu_mingguan = [36, 30, 14, 25, 38, 16, 28]\n",
        "jumlah_panas, jumlah_dingin = analisis_suhu(suhu_mingguan)\n",
        "\n",
        "print(f\"Jumlah hari Panas (>=35°C): {jumlah_panas}\")\n",
        "print(f\"Jumlah hari Dingin (<=15°C): {jumlah_dingin}\")\n"
      ],
      "metadata": {
        "id": "A278AR1lAAkF",
        "colab": {
          "base_uri": "https://localhost:8080/"
        },
        "outputId": "c8246027-ca84-43f3-f8e6-4bdb6aa0c750"
      },
      "execution_count": null,
      "outputs": [
        {
          "output_type": "stream",
          "name": "stdout",
          "text": [
            "Jumlah hari Panas (>=35°C): 2\n",
            "Jumlah hari Dingin (<=15°C): 1\n"
          ]
        }
      ]
    }
  ]
}