{
  "nbformat": 4,
  "nbformat_minor": 0,
  "metadata": {
    "colab": {
      "provenance": [],
      "authorship_tag": "ABX9TyNVqjHAeGYlCS14r33z98wd",
      "include_colab_link": true
    },
    "kernelspec": {
      "name": "python3",
      "display_name": "Python 3"
    },
    "language_info": {
      "name": "python"
    }
  },
  "cells": [
    {
      "cell_type": "markdown",
      "metadata": {
        "id": "view-in-github",
        "colab_type": "text"
      },
      "source": [
        "<a href=\"https://colab.research.google.com/github/venelove/Pemprograman-Dasar/blob/main/Tugas_3.ipynb\" target=\"_parent\"><img src=\"https://colab.research.google.com/assets/colab-badge.svg\" alt=\"Open In Colab\"/></a>"
      ]
    },
    {
      "cell_type": "code",
      "execution_count": null,
      "metadata": {
        "colab": {
          "base_uri": "https://localhost:8080/"
        },
        "id": "GUo2QZdxEh3t",
        "outputId": "948f5ee5-2e3b-4121-eccc-83a0faf76812"
      },
      "outputs": [
        {
          "output_type": "stream",
          "name": "stdout",
          "text": [
            "Harga Barang: Rp. 105000\n",
            "Subtotal: Rp105,000\n",
            "Diskon: Rp15,750\n",
            "Harga setelah diskon: Rp89,250\n",
            "PPN (11%): Rp9,818\n",
            "Total Akhir: Rp99,068\n"
          ]
        }
      ],
      "source": [
        "harga_pembelian = int(input(\"Harga Barang: Rp. \"))\n",
        "is_member = True\n",
        "\n",
        "diskon_faktor = (is_member and harga_pembelian > 100_000) * 0.15\n",
        "diskon = harga_pembelian * diskon_faktor\n",
        "\n",
        "setelah_diskon = harga_pembelian - diskon\n",
        "\n",
        "ppn = setelah_diskon * 0.11\n",
        "\n",
        "total = setelah_diskon + ppn\n",
        "\n",
        "print(f\"Subtotal: Rp{harga_pembelian:,.0f}\")\n",
        "print(f\"Diskon: Rp{diskon:,.0f}\")\n",
        "print(f\"Harga setelah diskon: Rp{setelah_diskon:,.0f}\")\n",
        "print(f\"PPN (11%): Rp{ppn:,.0f}\")\n",
        "print(f\"Total Akhir: Rp{total:,.0f}\")"
      ]
    }
  ]
}