{
  "nbformat": 4,
  "nbformat_minor": 0,
  "metadata": {
    "colab": {
      "provenance": [],
      "authorship_tag": "ABX9TyO8vYXnGlakhxb3K1bbujyd",
      "include_colab_link": true
    },
    "kernelspec": {
      "name": "python3",
      "display_name": "Python 3"
    },
    "language_info": {
      "name": "python"
    }
  },
  "cells": [
    {
      "cell_type": "markdown",
      "metadata": {
        "id": "view-in-github",
        "colab_type": "text"
      },
      "source": [
        "<a href=\"https://colab.research.google.com/github/venelove/Pemprograman-Dasar/blob/main/TUGAS_4.ipynb\" target=\"_parent\"><img src=\"https://colab.research.google.com/assets/colab-badge.svg\" alt=\"Open In Colab\"/></a>"
      ]
    },
    {
      "cell_type": "code",
      "execution_count": 7,
      "metadata": {
        "colab": {
          "base_uri": "https://localhost:8080/"
        },
        "id": "lwL_UhorS72b",
        "outputId": "8d2da419-0f5a-4ab3-f163-809d50eb6779"
      },
      "outputs": [
        {
          "output_type": "stream",
          "name": "stdout",
          "text": [
            "==============================\n",
            "SELAMAT DATANG DI KAFE VENELOVE CERIA\n",
            "==============================\n",
            "Menu Makanan & Minuman:\n",
            "1. Kopi Hitam   - Rp 16.000\n",
            "2. Teh Manis    - Rp 9.000\n",
            "3. Roti Bakar   - Rp 25.000\n",
            "4. Mie Instan   - Rp 12.000\n",
            "5. Pisang Keju  - Rp 26.500\n",
            "6. Cake Keju    - Rp 45.500\n",
            "7. Cake Banana  - Rp 34.000\n",
            "==============================\n",
            "Silakan masukkan nomor pilihan Anda (1-4): 6\n",
            "\n",
            "Anda memesan Cake Cheese dengan harga Rp 45500\n",
            "Diskon 50% = Rp 22750\n",
            "Total yang harus dibayar: Rp 22750\n",
            "\n",
            "Masukkan jumlah uang Anda: Rp 100000\n",
            "\n",
            "=== Struk Pembayaran ===\n",
            "Pesanan Anda  : Cake Cheese\n",
            "Harga Asli    : Rp 45500\n",
            "Potongan      : Rp 22750\n",
            "Total Bayar   : Rp 22750\n",
            "Uang Dibayar  : Rp 100000\n",
            "Kembalian     : Rp 77250.0\n",
            "=========================\n",
            "Terima kasih telah berbelanja!\n"
          ]
        }
      ],
      "source": [
        "print(\"=\"*30)\n",
        "print(\"SELAMAT DATANG DI KAFE VENELOVE CERIA\")\n",
        "print(\"=\"*30)\n",
        "print(\"Menu Makanan & Minuman:\")\n",
        "print(\"1. Kopi Hitam   - Rp 16.000\")\n",
        "print(\"2. Teh Manis    - Rp 9.000\")\n",
        "print(\"3. Roti Bakar   - Rp 25.000\")\n",
        "print(\"4. Mie Instan   - Rp 12.000\")\n",
        "print(\"5. Pisang Keju  - Rp 26.500\")\n",
        "print(\"6. Cake Keju    - Rp 45.500\")\n",
        "print(\"7. Cake Banana  - Rp 34.000\")\n",
        "print(\"=\"*30)\n",
        "\n",
        "pilihan_str: str = input(\"Silakan masukkan nomor pilihan Anda (1-4): \")\n",
        "pilihan: int = int(pilihan_str)\n",
        "nama_pesanan: str = \"\"\n",
        "harga: int = 0\n",
        "\n",
        "if pilihan == 1:\n",
        "    nama_pesanan = \"Kopi Hitam\"\n",
        "    harga = 16000\n",
        "elif pilihan == 2:\n",
        "    nama_pesanan = \"Teh Manis\"\n",
        "    harga = 9000\n",
        "elif pilihan == 3:\n",
        "    nama_pesanan = \"Roti Bakar\"\n",
        "    harga = 25000\n",
        "elif pilihan == 4:\n",
        "    nama_pesanan = \"Mie Instan\"\n",
        "    harga = 12000\n",
        "elif pilihan == 5:\n",
        "    nama_pesanan = \"Pisang Keju\"\n",
        "    harga = 26500\n",
        "elif pilihan == 6:\n",
        "    nama_pesanan = \"Cake Cheese\"\n",
        "    harga = 45500\n",
        "elif pilihan == 7:\n",
        "    nama_pesanan = \"Cake Banana\"\n",
        "    harga = 34000\n",
        "else:\n",
        "    print(\"Maaf, pilihan menu tidak valid. Silakan jalankan ulang program.\")\n",
        "\n",
        "if harga > 0:\n",
        "    # Tentukan diskon\n",
        "    if harga >= 49000:\n",
        "        diskon = 0.70\n",
        "    elif harga >= 35000:\n",
        "        diskon = 0.50\n",
        "    elif harga >= 21000:\n",
        "        diskon = 0.30\n",
        "    else:\n",
        "        diskon = 0\n",
        "\n",
        "    potongan = harga * diskon\n",
        "    total_bayar = harga - potongan\n",
        "\n",
        "    print(f\"\\nAnda memesan {nama_pesanan} dengan harga Rp {harga}\")\n",
        "    if diskon > 0:\n",
        "        print(f\"Diskon {int(diskon*100)}% = Rp {int(potongan)}\")\n",
        "    else:\n",
        "        print(\"Tidak ada diskon.\")\n",
        "    print(f\"Total yang harus dibayar: Rp {int(total_bayar)}\")\n",
        "\n",
        "    uang_dibayar: int = int(input(\"\\nMasukkan jumlah uang Anda: Rp \"))\n",
        "    if uang_dibayar >= total_bayar:\n",
        "        kembalian = uang_dibayar - total_bayar\n",
        "        print(\"\\n=== Struk Pembayaran ===\")\n",
        "        print(f\"Pesanan Anda  : {nama_pesanan}\")\n",
        "        print(f\"Harga Asli    : Rp {harga}\")\n",
        "        print(f\"Potongan      : Rp {int(potongan)}\")\n",
        "        print(f\"Total Bayar   : Rp {int(total_bayar)}\")\n",
        "        print(f\"Uang Dibayar  : Rp {uang_dibayar}\")\n",
        "        print(f\"Kembalian     : Rp {kembalian}\")\n",
        "        print(\"=========================\")\n",
        "        print(\"Terima kasih telah berbelanja!\")\n",
        "    else:\n",
        "        kekurangan = total_bayar - uang_dibayar\n",
        "        print(f\"Maaf, uang Anda kurang sebesar Rp {kekurangan}\")\n"
      ]
    }
  ]
}